{
 "cells": [
  {
   "cell_type": "code",
   "execution_count": 42,
   "metadata": {},
   "outputs": [
    {
     "name": "stdout",
     "output_type": "stream",
     "text": [
      "Path of read in data: ../home-credit-default-risk/application_train.csv\n"
     ]
    },
    {
     "data": {
      "text/html": [
       "<div>\n",
       "<style scoped>\n",
       "    .dataframe tbody tr th:only-of-type {\n",
       "        vertical-align: middle;\n",
       "    }\n",
       "\n",
       "    .dataframe tbody tr th {\n",
       "        vertical-align: top;\n",
       "    }\n",
       "\n",
       "    .dataframe thead th {\n",
       "        text-align: right;\n",
       "    }\n",
       "</style>\n",
       "<table border=\"1\" class=\"dataframe\">\n",
       "  <thead>\n",
       "    <tr style=\"text-align: right;\">\n",
       "      <th></th>\n",
       "      <th>SK_ID_CURR</th>\n",
       "      <th>TARGET</th>\n",
       "      <th>NAME_CONTRACT_TYPE</th>\n",
       "      <th>CODE_GENDER</th>\n",
       "      <th>FLAG_OWN_CAR</th>\n",
       "      <th>FLAG_OWN_REALTY</th>\n",
       "      <th>CNT_CHILDREN</th>\n",
       "      <th>AMT_INCOME_TOTAL</th>\n",
       "      <th>AMT_CREDIT</th>\n",
       "      <th>AMT_ANNUITY</th>\n",
       "      <th>...</th>\n",
       "      <th>FLAG_DOCUMENT_18</th>\n",
       "      <th>FLAG_DOCUMENT_19</th>\n",
       "      <th>FLAG_DOCUMENT_20</th>\n",
       "      <th>FLAG_DOCUMENT_21</th>\n",
       "      <th>AMT_REQ_CREDIT_BUREAU_HOUR</th>\n",
       "      <th>AMT_REQ_CREDIT_BUREAU_DAY</th>\n",
       "      <th>AMT_REQ_CREDIT_BUREAU_WEEK</th>\n",
       "      <th>AMT_REQ_CREDIT_BUREAU_MON</th>\n",
       "      <th>AMT_REQ_CREDIT_BUREAU_QRT</th>\n",
       "      <th>AMT_REQ_CREDIT_BUREAU_YEAR</th>\n",
       "    </tr>\n",
       "  </thead>\n",
       "  <tbody>\n",
       "    <tr>\n",
       "      <th>0</th>\n",
       "      <td>100002</td>\n",
       "      <td>1</td>\n",
       "      <td>Cash loans</td>\n",
       "      <td>M</td>\n",
       "      <td>N</td>\n",
       "      <td>Y</td>\n",
       "      <td>0</td>\n",
       "      <td>202500.0</td>\n",
       "      <td>406597.5</td>\n",
       "      <td>24700.5</td>\n",
       "      <td>...</td>\n",
       "      <td>0</td>\n",
       "      <td>0</td>\n",
       "      <td>0</td>\n",
       "      <td>0</td>\n",
       "      <td>0.0</td>\n",
       "      <td>0.0</td>\n",
       "      <td>0.0</td>\n",
       "      <td>0.0</td>\n",
       "      <td>0.0</td>\n",
       "      <td>1.0</td>\n",
       "    </tr>\n",
       "    <tr>\n",
       "      <th>1</th>\n",
       "      <td>100003</td>\n",
       "      <td>0</td>\n",
       "      <td>Cash loans</td>\n",
       "      <td>F</td>\n",
       "      <td>N</td>\n",
       "      <td>N</td>\n",
       "      <td>0</td>\n",
       "      <td>270000.0</td>\n",
       "      <td>1293502.5</td>\n",
       "      <td>35698.5</td>\n",
       "      <td>...</td>\n",
       "      <td>0</td>\n",
       "      <td>0</td>\n",
       "      <td>0</td>\n",
       "      <td>0</td>\n",
       "      <td>0.0</td>\n",
       "      <td>0.0</td>\n",
       "      <td>0.0</td>\n",
       "      <td>0.0</td>\n",
       "      <td>0.0</td>\n",
       "      <td>0.0</td>\n",
       "    </tr>\n",
       "    <tr>\n",
       "      <th>2</th>\n",
       "      <td>100004</td>\n",
       "      <td>0</td>\n",
       "      <td>Revolving loans</td>\n",
       "      <td>M</td>\n",
       "      <td>Y</td>\n",
       "      <td>Y</td>\n",
       "      <td>0</td>\n",
       "      <td>67500.0</td>\n",
       "      <td>135000.0</td>\n",
       "      <td>6750.0</td>\n",
       "      <td>...</td>\n",
       "      <td>0</td>\n",
       "      <td>0</td>\n",
       "      <td>0</td>\n",
       "      <td>0</td>\n",
       "      <td>0.0</td>\n",
       "      <td>0.0</td>\n",
       "      <td>0.0</td>\n",
       "      <td>0.0</td>\n",
       "      <td>0.0</td>\n",
       "      <td>0.0</td>\n",
       "    </tr>\n",
       "    <tr>\n",
       "      <th>3</th>\n",
       "      <td>100006</td>\n",
       "      <td>0</td>\n",
       "      <td>Cash loans</td>\n",
       "      <td>F</td>\n",
       "      <td>N</td>\n",
       "      <td>Y</td>\n",
       "      <td>0</td>\n",
       "      <td>135000.0</td>\n",
       "      <td>312682.5</td>\n",
       "      <td>29686.5</td>\n",
       "      <td>...</td>\n",
       "      <td>0</td>\n",
       "      <td>0</td>\n",
       "      <td>0</td>\n",
       "      <td>0</td>\n",
       "      <td>NaN</td>\n",
       "      <td>NaN</td>\n",
       "      <td>NaN</td>\n",
       "      <td>NaN</td>\n",
       "      <td>NaN</td>\n",
       "      <td>NaN</td>\n",
       "    </tr>\n",
       "    <tr>\n",
       "      <th>4</th>\n",
       "      <td>100007</td>\n",
       "      <td>0</td>\n",
       "      <td>Cash loans</td>\n",
       "      <td>M</td>\n",
       "      <td>N</td>\n",
       "      <td>Y</td>\n",
       "      <td>0</td>\n",
       "      <td>121500.0</td>\n",
       "      <td>513000.0</td>\n",
       "      <td>21865.5</td>\n",
       "      <td>...</td>\n",
       "      <td>0</td>\n",
       "      <td>0</td>\n",
       "      <td>0</td>\n",
       "      <td>0</td>\n",
       "      <td>0.0</td>\n",
       "      <td>0.0</td>\n",
       "      <td>0.0</td>\n",
       "      <td>0.0</td>\n",
       "      <td>0.0</td>\n",
       "      <td>0.0</td>\n",
       "    </tr>\n",
       "  </tbody>\n",
       "</table>\n",
       "<p>5 rows × 122 columns</p>\n",
       "</div>"
      ],
      "text/plain": [
       "   SK_ID_CURR  TARGET NAME_CONTRACT_TYPE CODE_GENDER FLAG_OWN_CAR  \\\n",
       "0      100002       1         Cash loans           M            N   \n",
       "1      100003       0         Cash loans           F            N   \n",
       "2      100004       0    Revolving loans           M            Y   \n",
       "3      100006       0         Cash loans           F            N   \n",
       "4      100007       0         Cash loans           M            N   \n",
       "\n",
       "  FLAG_OWN_REALTY  CNT_CHILDREN  AMT_INCOME_TOTAL  AMT_CREDIT  AMT_ANNUITY  \\\n",
       "0               Y             0          202500.0    406597.5      24700.5   \n",
       "1               N             0          270000.0   1293502.5      35698.5   \n",
       "2               Y             0           67500.0    135000.0       6750.0   \n",
       "3               Y             0          135000.0    312682.5      29686.5   \n",
       "4               Y             0          121500.0    513000.0      21865.5   \n",
       "\n",
       "   ...  FLAG_DOCUMENT_18 FLAG_DOCUMENT_19 FLAG_DOCUMENT_20 FLAG_DOCUMENT_21  \\\n",
       "0  ...                 0                0                0                0   \n",
       "1  ...                 0                0                0                0   \n",
       "2  ...                 0                0                0                0   \n",
       "3  ...                 0                0                0                0   \n",
       "4  ...                 0                0                0                0   \n",
       "\n",
       "  AMT_REQ_CREDIT_BUREAU_HOUR AMT_REQ_CREDIT_BUREAU_DAY  \\\n",
       "0                        0.0                       0.0   \n",
       "1                        0.0                       0.0   \n",
       "2                        0.0                       0.0   \n",
       "3                        NaN                       NaN   \n",
       "4                        0.0                       0.0   \n",
       "\n",
       "   AMT_REQ_CREDIT_BUREAU_WEEK  AMT_REQ_CREDIT_BUREAU_MON  \\\n",
       "0                         0.0                        0.0   \n",
       "1                         0.0                        0.0   \n",
       "2                         0.0                        0.0   \n",
       "3                         NaN                        NaN   \n",
       "4                         0.0                        0.0   \n",
       "\n",
       "   AMT_REQ_CREDIT_BUREAU_QRT  AMT_REQ_CREDIT_BUREAU_YEAR  \n",
       "0                        0.0                         1.0  \n",
       "1                        0.0                         0.0  \n",
       "2                        0.0                         0.0  \n",
       "3                        NaN                         NaN  \n",
       "4                        0.0                         0.0  \n",
       "\n",
       "[5 rows x 122 columns]"
      ]
     },
     "execution_count": 42,
     "metadata": {},
     "output_type": "execute_result"
    }
   ],
   "source": [
    "import os\n",
    "import numpy as np\n",
    "import pandas as pd\n",
    "import matplotlib.pyplot as plt\n",
    "\n",
    "dir_data=\"../home-credit-default-risk\"\n",
    "f_app = os.path.join(dir_data, 'application_train.csv')\n",
    "print('Path of read in data: %s' % (f_app))\n",
    "#the file encode problem on macOS\n",
    "app_train = pd.read_csv(f_app)\n",
    "app_train.head()"
   ]
  },
  {
   "cell_type": "code",
   "execution_count": 51,
   "metadata": {},
   "outputs": [],
   "source": [
    "sub_df = app_train[app_train['DAYS_EMPLOYED'] != 365243]\n",
    "sub_df.DAYS_EMPLOYED.replace(to_replace = 365243, value = np.nan, inplace = True)\n"
   ]
  },
  {
   "cell_type": "code",
   "execution_count": null,
   "metadata": {},
   "outputs": [],
   "source": []
  },
  {
   "cell_type": "code",
   "execution_count": null,
   "metadata": {
    "scrolled": true
   },
   "outputs": [],
   "source": []
  },
  {
   "cell_type": "code",
   "execution_count": 46,
   "metadata": {},
   "outputs": [],
   "source": [
    "\n",
    "correlationData = sub_df.corr()['TARGET']"
   ]
  },
  {
   "cell_type": "code",
   "execution_count": 47,
   "metadata": {},
   "outputs": [
    {
     "name": "stdout",
     "output_type": "stream",
     "text": [
      "top 15:\n",
      " DAYS_EMPLOYED                  0.074958\n",
      "REGION_RATING_CLIENT_W_CITY    0.067458\n",
      "DAYS_BIRTH                     0.065756\n",
      "REGION_RATING_CLIENT           0.065113\n",
      "DAYS_LAST_PHONE_CHANGE         0.060288\n",
      "REG_CITY_NOT_WORK_CITY         0.043384\n",
      "REG_CITY_NOT_LIVE_CITY         0.041977\n",
      "FLAG_DOCUMENT_3                0.041272\n",
      "DAYS_ID_PUBLISH                0.039910\n",
      "OWN_CAR_AGE                    0.039025\n",
      "DAYS_REGISTRATION              0.036087\n",
      "DEF_30_CNT_SOCIAL_CIRCLE       0.035868\n",
      "DEF_60_CNT_SOCIAL_CIRCLE       0.034198\n",
      "LIVE_CITY_NOT_WORK_CITY        0.024599\n",
      "AMT_REQ_CREDIT_BUREAU_YEAR     0.024219\n",
      "Name: TARGET, dtype: float64\n",
      "last 15 :\n",
      " LIVINGAREA_AVG               -0.037417\n",
      "ELEVATORS_MEDI               -0.037939\n",
      "ELEVATORS_AVG                -0.038329\n",
      "FLOORSMIN_MODE               -0.038403\n",
      "FLOORSMIN_MEDI               -0.039266\n",
      "FLOORSMIN_AVG                -0.039500\n",
      "REGION_POPULATION_RELATIVE   -0.040640\n",
      "AMT_CREDIT                   -0.040659\n",
      "FLOORSMAX_MODE               -0.048554\n",
      "FLOORSMAX_MEDI               -0.049159\n",
      "FLOORSMAX_AVG                -0.049468\n",
      "AMT_GOODS_PRICE              -0.050342\n",
      "EXT_SOURCE_1                 -0.155341\n",
      "EXT_SOURCE_2                 -0.170531\n",
      "EXT_SOURCE_3                 -0.179762\n",
      "Name: TARGET, dtype: float64\n"
     ]
    }
   ],
   "source": [
    "correlationData = correlationData.sort_values(ascending = False)\n",
    "largeCorrelation = correlationData[1:16]\n",
    "smallCorrelation = correlationData[len(correlationData)-15:len(correlationData)]\n",
    "print('top 15:\\n', largeCorrelation)\n",
    "print('last 15 :\\n', smallCorrelation)"
   ]
  },
  {
   "cell_type": "code",
   "execution_count": 48,
   "metadata": {},
   "outputs": [
    {
     "name": "stdout",
     "output_type": "stream",
     "text": [
      "Correlation: -0.0758\n"
     ]
    },
    {
     "data": {
      "image/png": "[encoded data removed]",
      "text/plain": [
       "<Figure size 432x288 with 1 Axes>"
      ]
     },
     "metadata": {
      "needs_background": "light"
     },
     "output_type": "display_data"
    }
   ],
   "source": [
    "sub_df.DAYS_EMPLOYED = sub_df.DAYS_EMPLOYED/(-365)\n",
    "sub_df.DAYS_EMPLOYED = sub_df.DAYS_EMPLOYED.fillna(0)\n",
    "\n",
    "corr=np.corrcoef( sub_df.DAYS_EMPLOYED ,sub_df.LIVE_CITY_NOT_WORK_CITY )\n",
    "\n",
    "print(\"Correlation: %.4f\" % (corr[0][1]))\n",
    "\n",
    "plt.plot(sub_df.DAYS_EMPLOYED,sub_df.LIVE_CITY_NOT_WORK_CITY, '.')\n",
    "plt.xlabel('Days employed (year)')\n",
    "plt.ylabel('LIVE_CITY_NOT_WORK_CITY')\n",
    "\n",
    "plt.show()"
   ]
  },
  {
   "cell_type": "code",
   "execution_count": 49,
   "metadata": {},
   "outputs": [
    {
     "name": "stdout",
     "output_type": "stream",
     "text": [
      "Correlation: -0.0278\n"
     ]
    },
    {
     "data": {
      "image/png": "[encoded data removed]",
      "text/plain": [
       "<Figure size 432x288 with 1 Axes>"
      ]
     },
     "metadata": {
      "needs_background": "light"
     },
     "output_type": "display_data"
    }
   ],
   "source": [
    "sub_df.OWN_CAR_AGE = sub_df.OWN_CAR_AGE.fillna(0)\n",
    "sub_df.DAYS_EMPLOYED = sub_df.DAYS_EMPLOYED.fillna(0)\n",
    "\n",
    "corr=np.corrcoef( sub_df.DAYS_EMPLOYED ,sub_df.OWN_CAR_AGE )\n",
    "\n",
    "print(\"Correlation: %.4f\" % (corr[0][1]))\n",
    "\n",
    "plt.plot(sub_df.DAYS_EMPLOYED,sub_df.OWN_CAR_AGE, '.')\n",
    "plt.xlabel('Days employed (year)')\n",
    "plt.ylabel('Own car age')\n",
    "\n",
    "plt.show()"
   ]
  },
  {
   "cell_type": "code",
   "execution_count": 50,
   "metadata": {},
   "outputs": [
    {
     "name": "stdout",
     "output_type": "stream",
     "text": [
      "Correlation: 0.0108\n"
     ]
    },
    {
     "data": {
      "image/png": "[encoded data removed]",
      "text/plain": [
       "<Figure size 432x288 with 1 Axes>"
      ]
     },
     "metadata": {
      "needs_background": "light"
     },
     "output_type": "display_data"
    }
   ],
   "source": [
    "\n",
    "corr=np.corrcoef( sub_df.DAYS_EMPLOYED ,sub_df.REGION_RATING_CLIENT )\n",
    "\n",
    "print(\"Correlation: %.4f\" % (corr[0][1]))\n",
    "\n",
    "plt.plot(sub_df.DAYS_EMPLOYED,sub_df.REGION_RATING_CLIENT, '.')\n",
    "plt.xlabel('Days employed ')\n",
    "plt.ylabel('REGION_RATING_CLIENT')\n",
    "\n",
    "plt.show()"
   ]
  },
  {
   "cell_type": "code",
   "execution_count": 53,
   "metadata": {},
   "outputs": [
    {
     "name": "stdout",
     "output_type": "stream",
     "text": [
      "Correlation of EXT SOURCE 3 and TARGET:  0         0.139376\n",
      "1              NaN\n",
      "2         0.729567\n",
      "3              NaN\n",
      "4              NaN\n",
      "5         0.621226\n",
      "6         0.492060\n",
      "7         0.540654\n",
      "9              NaN\n",
      "10        0.363945\n",
      "12        0.176653\n",
      "13        0.770087\n",
      "14             NaN\n",
      "15        0.678568\n",
      "16        0.062103\n",
      "17             NaN\n",
      "18        0.556727\n",
      "19        0.477649\n",
      "20             NaN\n",
      "21        0.542445\n",
      "22        0.358951\n",
      "24        0.565608\n",
      "25        0.461482\n",
      "26        0.190706\n",
      "27        0.659406\n",
      "28        0.524496\n",
      "29             NaN\n",
      "30        0.410103\n",
      "31             NaN\n",
      "32        0.798137\n",
      "            ...   \n",
      "307477    0.667458\n",
      "307478    0.420611\n",
      "307479    0.352340\n",
      "307480    0.647977\n",
      "307481    0.511892\n",
      "307482    0.394495\n",
      "307484         NaN\n",
      "307485    0.865896\n",
      "307486    0.199771\n",
      "307488    0.529890\n",
      "307489    0.397946\n",
      "307490    0.495666\n",
      "307491    0.716570\n",
      "307492    0.365617\n",
      "307493    0.728141\n",
      "307494    0.511892\n",
      "307495    0.597192\n",
      "307496    0.486653\n",
      "307497    0.524496\n",
      "307498    0.406617\n",
      "307499    0.206779\n",
      "307500    0.337673\n",
      "307501         NaN\n",
      "307502    0.735221\n",
      "307503    0.609276\n",
      "307504         NaN\n",
      "307506         NaN\n",
      "307508    0.218859\n",
      "307509    0.661024\n",
      "307510    0.113922\n",
      "Name: EXT_SOURCE_3, Length: 252137, dtype: float64\n"
     ]
    },
    {
     "data": {
      "image/png": "[encoded data removed]",
      "text/plain": [
       "<Figure size 432x288 with 1 Axes>"
      ]
     },
     "metadata": {
      "needs_background": "light"
     },
     "output_type": "display_data"
    }
   ],
   "source": [
    "print('Correlation of EXT SOURCE 3 and TARGET: ', sub_df.EXT_SOURCE_3)\n",
    "\n",
    "plt.plot(sub_df.EXT_SOURCE_3,sub_df.TARGET,'.')\n",
    "plt.xlabel('EXT_SOURCE_3 (normalized)')\n",
    "plt.ylabel('TARGET')\n",
    "plt.show()"
   ]
  },
  {
   "cell_type": "code",
   "execution_count": null,
   "metadata": {},
   "outputs": [],
   "source": []
  }
 ],
 "metadata": {
  "kernelspec": {
   "display_name": "Python 3",
   "language": "python",
   "name": "python3"
  },
  "language_info": {
   "codemirror_mode": {
    "name": "ipython",
    "version": 3
   },
   "file_extension": ".py",
   "mimetype": "text/x-python",
   "name": "python",
   "nbconvert_exporter": "python",
   "pygments_lexer": "ipython3",
   "version": "3.7.3"
  }
 },
 "nbformat": 4,
 "nbformat_minor": 2
}
