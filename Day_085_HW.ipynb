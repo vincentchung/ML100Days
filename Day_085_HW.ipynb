{
 "cells": [
  {
   "cell_type": "markdown",
   "metadata": {},
   "source": [
    "## Work\n",
    "1. 試改變 monitor \"Validation Accuracy\" 並比較結果\n",
    "2. 調整 earlystop 的等待次數至 10, 25 並比較結果"
   ]
  },
  {
   "cell_type": "code",
   "execution_count": 1,
   "metadata": {},
   "outputs": [
    {
     "name": "stderr",
     "output_type": "stream",
     "text": [
      "Using TensorFlow backend.\n"
     ]
    }
   ],
   "source": [
    "import os\n",
    "import keras\n",
    "import matplotlib.pyplot as plt\n",
    "%matplotlib inline\n",
    "\n",
    "\n",
    "# Disable GPU\n",
    "os.environ[\"CUDA_VISIBLE_DEVICES\"] = \"\""
   ]
  },
  {
   "cell_type": "code",
   "execution_count": 2,
   "metadata": {},
   "outputs": [],
   "source": [
    "train, test = keras.datasets.cifar10.load_data()"
   ]
  },
  {
   "cell_type": "code",
   "execution_count": 3,
   "metadata": {},
   "outputs": [],
   "source": [
    "## 資料前處理\n",
    "def preproc_x(x, flatten=True):\n",
    "    x = x / 255.\n",
    "    if flatten:\n",
    "        x = x.reshape((len(x), -1))\n",
    "    return x\n",
    "\n",
    "def preproc_y(y, num_classes=10):\n",
    "    if y.shape[-1] == 1:\n",
    "        y = keras.utils.to_categorical(y, num_classes)\n",
    "    return y    "
   ]
  },
  {
   "cell_type": "code",
   "execution_count": 4,
   "metadata": {},
   "outputs": [],
   "source": [
    "x_train, y_train = train\n",
    "x_test, y_test = test\n",
    "\n",
    "# Preproc the inputs\n",
    "x_train = preproc_x(x_train)\n",
    "x_test = preproc_x(x_test)\n",
    "\n",
    "# Preprc the outputs\n",
    "y_train = preproc_y(y_train)\n",
    "y_test = preproc_y(y_test)"
   ]
  },
  {
   "cell_type": "code",
   "execution_count": 5,
   "metadata": {},
   "outputs": [],
   "source": [
    "from keras.layers import BatchNormalization\n",
    "\n",
    "\"\"\"\n",
    "建立神經網路，並加入 BN layer\n",
    "\"\"\"\n",
    "def build_mlp(input_shape, output_units=10, num_neurons=[512, 256, 128]):\n",
    "    input_layer = keras.layers.Input(input_shape)\n",
    "    \n",
    "    for i, n_units in enumerate(num_neurons):\n",
    "        if i == 0:\n",
    "            x = keras.layers.Dense(units=n_units, \n",
    "                                   activation=\"relu\", \n",
    "                                   name=\"hidden_layer\"+str(i+1))(input_layer)\n",
    "            x = BatchNormalization()(x)\n",
    "        else:\n",
    "            x = keras.layers.Dense(units=n_units, \n",
    "                                   activation=\"relu\", \n",
    "                                   name=\"hidden_layer\"+str(i+1))(x)\n",
    "            x = BatchNormalization()(x)\n",
    "    \n",
    "    out = keras.layers.Dense(units=output_units, activation=\"softmax\", name=\"output\")(x)\n",
    "    \n",
    "    model = keras.models.Model(inputs=[input_layer], outputs=[out])\n",
    "    return model"
   ]
  },
  {
   "cell_type": "code",
   "execution_count": 6,
   "metadata": {},
   "outputs": [],
   "source": [
    "## 超參數設定\n",
    "LEARNING_RATE = 1e-3\n",
    "EPOCHS = 50\n",
    "BATCH_SIZE = 1024\n",
    "MOMENTUM = 0.95"
   ]
  },
  {
   "cell_type": "code",
   "execution_count": 12,
   "metadata": {},
   "outputs": [],
   "source": [
    "\"\"\"\n",
    "# 載入 Callbacks, 並將 monitor 設定為監控 val_acc\n",
    "\"\"\"\n",
    "from keras.callbacks import EarlyStopping\n",
    "\n",
    "earlystop = EarlyStopping(monitor=\"val_acc\", \n",
    "                          patience=10, \n",
    "                          verbose=1\n",
    "                          )"
   ]
  },
  {
   "cell_type": "code",
   "execution_count": 15,
   "metadata": {
    "scrolled": false
   },
   "outputs": [
    {
     "name": "stdout",
     "output_type": "stream",
     "text": [
      "_________________________________________________________________\n",
      "Layer (type)                 Output Shape              Param #   \n",
      "=================================================================\n",
      "input_3 (InputLayer)         (None, 3072)              0         \n",
      "_________________________________________________________________\n",
      "hidden_layer1 (Dense)        (None, 512)               1573376   \n",
      "_________________________________________________________________\n",
      "batch_normalization_7 (Batch (None, 512)               2048      \n",
      "_________________________________________________________________\n",
      "hidden_layer2 (Dense)        (None, 256)               131328    \n",
      "_________________________________________________________________\n",
      "batch_normalization_8 (Batch (None, 256)               1024      \n",
      "_________________________________________________________________\n",
      "hidden_layer3 (Dense)        (None, 128)               32896     \n",
      "_________________________________________________________________\n",
      "batch_normalization_9 (Batch (None, 128)               512       \n",
      "_________________________________________________________________\n",
      "output (Dense)               (None, 10)                1290      \n",
      "=================================================================\n",
      "Total params: 1,742,474\n",
      "Trainable params: 1,740,682\n",
      "Non-trainable params: 1,792\n",
      "_________________________________________________________________\n",
      "Train on 50000 samples, validate on 10000 samples\n",
      "Epoch 1/50\n",
      "50000/50000 [==============================] - 4s 89us/step - loss: 2.1915 - acc: 0.2792 - val_loss: 2.0575 - val_acc: 0.3272\n",
      "Epoch 2/50\n",
      "50000/50000 [==============================] - 4s 75us/step - loss: 1.7383 - acc: 0.3951 - val_loss: 1.8115 - val_acc: 0.3806\n",
      "Epoch 3/50\n",
      "50000/50000 [==============================] - 4s 85us/step - loss: 1.6205 - acc: 0.4333 - val_loss: 1.6938 - val_acc: 0.4102\n",
      "Epoch 4/50\n",
      "50000/50000 [==============================] - 4s 85us/step - loss: 1.5474 - acc: 0.4588 - val_loss: 1.6338 - val_acc: 0.4270\n",
      "Epoch 5/50\n",
      "50000/50000 [==============================] - 5s 90us/step - loss: 1.4936 - acc: 0.4790 - val_loss: 1.6095 - val_acc: 0.4402\n",
      "Epoch 6/50\n",
      "50000/50000 [==============================] - 4s 90us/step - loss: 1.4479 - acc: 0.4938 - val_loss: 1.5818 - val_acc: 0.4484\n",
      "Epoch 7/50\n",
      "50000/50000 [==============================] - 4s 88us/step - loss: 1.4095 - acc: 0.5082 - val_loss: 1.5536 - val_acc: 0.4564\n",
      "Epoch 8/50\n",
      "50000/50000 [==============================] - 4s 89us/step - loss: 1.3762 - acc: 0.5211 - val_loss: 1.5366 - val_acc: 0.4536\n",
      "Epoch 9/50\n",
      "50000/50000 [==============================] - 4s 88us/step - loss: 1.3438 - acc: 0.5322 - val_loss: 1.5297 - val_acc: 0.4597\n",
      "Epoch 10/50\n",
      "50000/50000 [==============================] - 5s 98us/step - loss: 1.3134 - acc: 0.5440 - val_loss: 1.5157 - val_acc: 0.4680\n",
      "Epoch 11/50\n",
      "50000/50000 [==============================] - 5s 90us/step - loss: 1.2856 - acc: 0.5536 - val_loss: 1.4986 - val_acc: 0.4706\n",
      "Epoch 12/50\n",
      "50000/50000 [==============================] - 5s 95us/step - loss: 1.2592 - acc: 0.5643 - val_loss: 1.4823 - val_acc: 0.4801\n",
      "Epoch 13/50\n",
      "50000/50000 [==============================] - 5s 93us/step - loss: 1.2326 - acc: 0.5740 - val_loss: 1.4783 - val_acc: 0.4778\n",
      "Epoch 14/50\n",
      "50000/50000 [==============================] - 4s 89us/step - loss: 1.2092 - acc: 0.5828 - val_loss: 1.4832 - val_acc: 0.4789\n",
      "Epoch 15/50\n",
      "50000/50000 [==============================] - 5s 92us/step - loss: 1.1856 - acc: 0.5916 - val_loss: 1.4682 - val_acc: 0.4835\n",
      "Epoch 16/50\n",
      "50000/50000 [==============================] - 5s 90us/step - loss: 1.1632 - acc: 0.6000 - val_loss: 1.4686 - val_acc: 0.4805\n",
      "Epoch 17/50\n",
      "50000/50000 [==============================] - 5s 91us/step - loss: 1.1389 - acc: 0.6102 - val_loss: 1.4632 - val_acc: 0.4860\n",
      "Epoch 18/50\n",
      "50000/50000 [==============================] - 5s 98us/step - loss: 1.1177 - acc: 0.6179 - val_loss: 1.4612 - val_acc: 0.4915\n",
      "Epoch 19/50\n",
      "50000/50000 [==============================] - 5s 92us/step - loss: 1.0950 - acc: 0.6266 - val_loss: 1.4577 - val_acc: 0.4883\n",
      "Epoch 20/50\n",
      "50000/50000 [==============================] - 5s 100us/step - loss: 1.0721 - acc: 0.6358 - val_loss: 1.4693 - val_acc: 0.4853\n",
      "Epoch 21/50\n",
      "50000/50000 [==============================] - 4s 86us/step - loss: 1.0505 - acc: 0.6448 - val_loss: 1.4669 - val_acc: 0.4891\n",
      "Epoch 22/50\n",
      "50000/50000 [==============================] - 5s 93us/step - loss: 1.0289 - acc: 0.6510 - val_loss: 1.4826 - val_acc: 0.4892\n",
      "Epoch 23/50\n",
      "50000/50000 [==============================] - 4s 85us/step - loss: 1.0093 - acc: 0.6605 - val_loss: 1.4749 - val_acc: 0.4889\n",
      "Epoch 24/50\n",
      "50000/50000 [==============================] - 5s 93us/step - loss: 0.9892 - acc: 0.6689 - val_loss: 1.4959 - val_acc: 0.4849\n",
      "Epoch 25/50\n",
      "50000/50000 [==============================] - 4s 89us/step - loss: 0.9682 - acc: 0.6753 - val_loss: 1.4738 - val_acc: 0.4936\n",
      "Epoch 26/50\n",
      "50000/50000 [==============================] - 4s 86us/step - loss: 0.9472 - acc: 0.6848 - val_loss: 1.4741 - val_acc: 0.4910\n",
      "Epoch 27/50\n",
      "50000/50000 [==============================] - 5s 92us/step - loss: 0.9274 - acc: 0.6914 - val_loss: 1.4834 - val_acc: 0.4959\n",
      "Epoch 28/50\n",
      "50000/50000 [==============================] - 4s 88us/step - loss: 0.9068 - acc: 0.6990 - val_loss: 1.4778 - val_acc: 0.4929\n",
      "Epoch 29/50\n",
      "50000/50000 [==============================] - 4s 83us/step - loss: 0.8877 - acc: 0.7071 - val_loss: 1.4854 - val_acc: 0.4933\n",
      "Epoch 30/50\n",
      "50000/50000 [==============================] - 5s 90us/step - loss: 0.8664 - acc: 0.7158 - val_loss: 1.5009 - val_acc: 0.4910\n",
      "Epoch 31/50\n",
      "50000/50000 [==============================] - 4s 88us/step - loss: 0.8473 - acc: 0.7232 - val_loss: 1.5094 - val_acc: 0.4883\n",
      "Epoch 32/50\n",
      "50000/50000 [==============================] - 4s 88us/step - loss: 0.8292 - acc: 0.7307 - val_loss: 1.5129 - val_acc: 0.4881\n",
      "Epoch 33/50\n",
      "50000/50000 [==============================] - 5s 94us/step - loss: 0.8088 - acc: 0.7366 - val_loss: 1.5057 - val_acc: 0.4948\n",
      "Epoch 34/50\n",
      "50000/50000 [==============================] - 5s 91us/step - loss: 0.7895 - acc: 0.7465 - val_loss: 1.5137 - val_acc: 0.4895\n",
      "Epoch 35/50\n",
      "50000/50000 [==============================] - 5s 95us/step - loss: 0.7705 - acc: 0.7545 - val_loss: 1.5364 - val_acc: 0.4934\n",
      "Epoch 36/50\n",
      "50000/50000 [==============================] - 5s 93us/step - loss: 0.7534 - acc: 0.7595 - val_loss: 1.5418 - val_acc: 0.4856\n",
      "Epoch 37/50\n",
      "50000/50000 [==============================] - 5s 93us/step - loss: 0.7321 - acc: 0.7679 - val_loss: 1.5546 - val_acc: 0.4866\n",
      "Epoch 00037: early stopping\n",
      "Train on 50000 samples, validate on 10000 samples\n",
      "Epoch 1/50\n",
      "50000/50000 [==============================] - 4s 86us/step - loss: 0.7165 - acc: 0.7743 - val_loss: 1.5622 - val_acc: 0.4862\n",
      "Epoch 2/50\n",
      "50000/50000 [==============================] - 4s 87us/step - loss: 0.6963 - acc: 0.7809 - val_loss: 1.5705 - val_acc: 0.4854\n",
      "Epoch 3/50\n",
      "50000/50000 [==============================] - 4s 89us/step - loss: 0.6782 - acc: 0.7882 - val_loss: 1.5595 - val_acc: 0.4876\n",
      "Epoch 4/50\n",
      "50000/50000 [==============================] - 4s 88us/step - loss: 0.6599 - acc: 0.7963 - val_loss: 1.6047 - val_acc: 0.4796\n",
      "Epoch 5/50\n",
      "50000/50000 [==============================] - 4s 89us/step - loss: 0.6427 - acc: 0.8019 - val_loss: 1.5970 - val_acc: 0.4867\n",
      "Epoch 6/50\n",
      "50000/50000 [==============================] - 4s 90us/step - loss: 0.6231 - acc: 0.8111 - val_loss: 1.6211 - val_acc: 0.4847\n",
      "Epoch 7/50\n",
      "50000/50000 [==============================] - 4s 90us/step - loss: 0.6039 - acc: 0.8191 - val_loss: 1.6349 - val_acc: 0.4892\n",
      "Epoch 8/50\n",
      "50000/50000 [==============================] - 4s 89us/step - loss: 0.5898 - acc: 0.8226 - val_loss: 1.6138 - val_acc: 0.4853\n",
      "Epoch 9/50\n",
      "50000/50000 [==============================] - 4s 88us/step - loss: 0.5714 - acc: 0.8294 - val_loss: 1.6184 - val_acc: 0.4921\n",
      "Epoch 10/50\n",
      "50000/50000 [==============================] - 5s 96us/step - loss: 0.5547 - acc: 0.8365 - val_loss: 1.6389 - val_acc: 0.4866\n",
      "Epoch 11/50\n",
      "50000/50000 [==============================] - 5s 95us/step - loss: 0.5392 - acc: 0.8422 - val_loss: 1.6781 - val_acc: 0.4845\n",
      "Epoch 12/50\n"
     ]
    },
    {
     "name": "stdout",
     "output_type": "stream",
     "text": [
      "50000/50000 [==============================] - 5s 93us/step - loss: 0.5212 - acc: 0.8495 - val_loss: 1.6790 - val_acc: 0.4846\n",
      "Epoch 13/50\n",
      "50000/50000 [==============================] - 5s 96us/step - loss: 0.5048 - acc: 0.8577 - val_loss: 1.7014 - val_acc: 0.4785\n",
      "Epoch 14/50\n",
      "50000/50000 [==============================] - 5s 102us/step - loss: 0.4876 - acc: 0.8637 - val_loss: 1.7083 - val_acc: 0.4868\n",
      "Epoch 15/50\n",
      "50000/50000 [==============================] - 4s 89us/step - loss: 0.4726 - acc: 0.8703 - val_loss: 1.7077 - val_acc: 0.4855\n",
      "Epoch 16/50\n",
      "50000/50000 [==============================] - 5s 95us/step - loss: 0.4585 - acc: 0.8751 - val_loss: 1.7524 - val_acc: 0.4751\n",
      "Epoch 17/50\n",
      "50000/50000 [==============================] - 5s 91us/step - loss: 0.4425 - acc: 0.8809 - val_loss: 1.7551 - val_acc: 0.4805\n",
      "Epoch 18/50\n",
      "50000/50000 [==============================] - 5s 91us/step - loss: 0.4270 - acc: 0.8871 - val_loss: 1.7492 - val_acc: 0.4810\n",
      "Epoch 19/50\n",
      "50000/50000 [==============================] - 5s 99us/step - loss: 0.4132 - acc: 0.8934 - val_loss: 1.7702 - val_acc: 0.4881\n",
      "Epoch 20/50\n",
      "50000/50000 [==============================] - 5s 101us/step - loss: 0.3979 - acc: 0.8999 - val_loss: 1.7925 - val_acc: 0.4754\n",
      "Epoch 21/50\n",
      "50000/50000 [==============================] - 5s 95us/step - loss: 0.3841 - acc: 0.9033 - val_loss: 1.8032 - val_acc: 0.4783\n",
      "Epoch 22/50\n",
      "50000/50000 [==============================] - 5s 95us/step - loss: 0.3693 - acc: 0.9104 - val_loss: 1.8216 - val_acc: 0.4809\n",
      "Epoch 23/50\n",
      "50000/50000 [==============================] - 4s 88us/step - loss: 0.3573 - acc: 0.9147 - val_loss: 1.8311 - val_acc: 0.4789\n",
      "Epoch 24/50\n",
      "50000/50000 [==============================] - 4s 79us/step - loss: 0.3421 - acc: 0.9194 - val_loss: 1.8379 - val_acc: 0.4830\n",
      "Epoch 25/50\n",
      "50000/50000 [==============================] - 4s 88us/step - loss: 0.3316 - acc: 0.9242 - val_loss: 1.8626 - val_acc: 0.4867\n",
      "Epoch 26/50\n",
      "50000/50000 [==============================] - 4s 87us/step - loss: 0.3189 - acc: 0.9285 - val_loss: 1.8606 - val_acc: 0.4825\n",
      "Epoch 27/50\n",
      "50000/50000 [==============================] - 5s 98us/step - loss: 0.3053 - acc: 0.9342 - val_loss: 1.8933 - val_acc: 0.4841\n",
      "Epoch 28/50\n",
      "50000/50000 [==============================] - 5s 91us/step - loss: 0.2943 - acc: 0.9369 - val_loss: 1.9159 - val_acc: 0.4778\n",
      "Epoch 29/50\n",
      "50000/50000 [==============================] - 4s 84us/step - loss: 0.2824 - acc: 0.9415 - val_loss: 1.9459 - val_acc: 0.4770\n",
      "Epoch 30/50\n",
      "50000/50000 [==============================] - 4s 86us/step - loss: 0.2717 - acc: 0.9459 - val_loss: 1.9511 - val_acc: 0.4781\n",
      "Epoch 31/50\n",
      "50000/50000 [==============================] - 5s 98us/step - loss: 0.2600 - acc: 0.9492 - val_loss: 1.9571 - val_acc: 0.4795\n",
      "Epoch 32/50\n",
      "50000/50000 [==============================] - 4s 88us/step - loss: 0.2502 - acc: 0.9523 - val_loss: 2.0273 - val_acc: 0.4746\n",
      "Epoch 33/50\n",
      "50000/50000 [==============================] - 5s 91us/step - loss: 0.2402 - acc: 0.9549 - val_loss: 2.0101 - val_acc: 0.4757\n",
      "Epoch 34/50\n",
      "50000/50000 [==============================] - 4s 86us/step - loss: 0.2304 - acc: 0.9584 - val_loss: 2.0191 - val_acc: 0.4771\n",
      "Epoch 00034: early stopping\n"
     ]
    }
   ],
   "source": [
    "results = {}\n",
    "model = build_mlp(input_shape=x_train.shape[1:])\n",
    "model.summary()\n",
    "optimizer = keras.optimizers.SGD(lr=LEARNING_RATE, nesterov=True, momentum=MOMENTUM)\n",
    "model.compile(loss=\"categorical_crossentropy\", metrics=[\"accuracy\"], optimizer=optimizer)\n",
    "\n",
    "model.fit(x_train, y_train, \n",
    "          epochs=EPOCHS, \n",
    "          batch_size=BATCH_SIZE, \n",
    "          validation_data=(x_test, y_test), \n",
    "          shuffle=True,\n",
    "          callbacks=[earlystop]\n",
    "         )\n",
    "\n",
    "\n",
    "\n",
    "\n",
    "# Collect results\n",
    "train_loss = model.history.history[\"loss\"]\n",
    "valid_loss = model.history.history[\"val_loss\"]\n",
    "train_acc = model.history.history[\"acc\"]\n",
    "valid_acc = model.history.history[\"val_acc\"]\n",
    "\n",
    "exp_name_tag = \"val_acc_CB_10\"\n",
    "results[exp_name_tag] = {'train-loss': train_loss,\n",
    "                                 'valid-loss': valid_loss,\n",
    "                                 'train-acc': train_acc,\n",
    "                                 'valid-acc': valid_acc}\n",
    "\n",
    "#change to 25\n",
    "earlystop = EarlyStopping(monitor=\"val_acc\", \n",
    "                          patience=25, \n",
    "                          verbose=1\n",
    "                          )\n",
    "model.fit(x_train, y_train, \n",
    "          epochs=EPOCHS, \n",
    "          batch_size=BATCH_SIZE, \n",
    "          validation_data=(x_test, y_test), \n",
    "          shuffle=True,\n",
    "          callbacks=[earlystop]\n",
    "         )\n",
    "# Collect results\n",
    "train_loss = model.history.history[\"loss\"]\n",
    "valid_loss = model.history.history[\"val_loss\"]\n",
    "train_acc = model.history.history[\"acc\"]\n",
    "valid_acc = model.history.history[\"val_acc\"]\n",
    "\n",
    "exp_name_tag = \"val_acc_CB_25\"\n",
    "results[exp_name_tag] = {'train-loss': train_loss,\n",
    "                                 'valid-loss': valid_loss,\n",
    "                                 'train-acc': train_acc,\n",
    "                                 'valid-acc': valid_acc}\n"
   ]
  },
  {
   "cell_type": "code",
   "execution_count": null,
   "metadata": {},
   "outputs": [],
   "source": []
  },
  {
   "cell_type": "code",
   "execution_count": 16,
   "metadata": {
    "scrolled": true
   },
   "outputs": [
    {
     "data": {
      "image/png": "[encoded data removed]",
      "text/plain": [
       "<Figure size 576x432 with 1 Axes>"
      ]
     },
     "metadata": {
      "needs_background": "light"
     },
     "output_type": "display_data"
    },
    {
     "data": {
      "image/png": "[encoded data removed]",
      "text/plain": [
       "<Figure size 576x432 with 1 Axes>"
      ]
     },
     "metadata": {
      "needs_background": "light"
     },
     "output_type": "display_data"
    }
   ],
   "source": [
    "import matplotlib.pyplot as plt\n",
    "%matplotlib inline\n",
    "color_bar = [\"r\", \"g\", \"b\", \"y\", \"m\", \"k\",\"w\",\"c\"]\n",
    "\n",
    "plt.figure(figsize=(8,6))\n",
    "for i, cond in enumerate(results.keys()):\n",
    "    plt.plot(range(len(results[cond]['train-loss'])),results[cond]['train-loss'], '-', label=cond, color=color_bar[i%8])\n",
    "    plt.plot(range(len(results[cond]['valid-loss'])),results[cond]['valid-loss'], '--', label=cond, color=color_bar[i%8])\n",
    "plt.title(\"Loss\")\n",
    "plt.ylim([0, 5])\n",
    "plt.legend()\n",
    "plt.show()\n",
    "\n",
    "plt.figure(figsize=(8,6))\n",
    "for i, cond in enumerate(results.keys()):\n",
    "    plt.plot(range(len(results[cond]['train-acc'])),results[cond]['train-acc'], '-', label=cond, color=color_bar[i%8])\n",
    "    plt.plot(range(len(results[cond]['valid-acc'])),results[cond]['valid-acc'], '--', label=cond, color=color_bar[i%8])\n",
    "plt.title(\"Accuracy\")\n",
    "plt.legend()\n",
    "plt.show()"
   ]
  },
  {
   "cell_type": "code",
   "execution_count": null,
   "metadata": {},
   "outputs": [],
   "source": []
  }
 ],
 "metadata": {
  "kernelspec": {
   "display_name": "Python 3",
   "language": "python",
   "name": "python3"
  },
  "language_info": {
   "codemirror_mode": {
    "name": "ipython",
    "version": 3
   },
   "file_extension": ".py",
   "mimetype": "text/x-python",
   "name": "python",
   "nbconvert_exporter": "python",
   "pygments_lexer": "ipython3",
   "version": "3.7.3"
  }
 },
 "nbformat": 4,
 "nbformat_minor": 2
}
