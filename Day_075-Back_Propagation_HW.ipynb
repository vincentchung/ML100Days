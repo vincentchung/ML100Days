{
 "cells": [
  {
   "cell_type": "markdown",
   "metadata": {},
   "source": [
    "# 作業目標:\n",
    "\n",
    "    通過建立多層的神經網路, 了解權值矩陣更新"
   ]
  },
  {
   "cell_type": "markdown",
   "metadata": {},
   "source": [
    "# 作業重點: \n",
    "\n",
    "3  層神經網路\n",
    "\n",
    "通過增加更多的中間層，以對更多關係的組合進行建模\n",
    "\n",
    "syn1 權值矩陣將隱層的組合輸出映射到最終結果，\n",
    "\n",
    "而在更新 syn1 的同時，還需要更新 syn0 權值矩陣，\n",
    "\n",
    "以從輸入資料中更好地產生這些組合"
   ]
  },
  {
   "cell_type": "code",
   "execution_count": 79,
   "metadata": {},
   "outputs": [],
   "source": [
    "import numpy as np\n",
    " \n",
    "# Sigmoid 函數可以將任何值都映射到一個位於 0 到  1 範圍內的值。通過它，我們可以將實數轉化為概率值\n",
    "def nonlin2(x,deriv=False):\n",
    "    if(deriv==True):\n",
    "        return x*(1-x)\n",
    "    return 1/(1+np.exp(-x))\n",
    "\n",
    "def nonlin(x,deriv=False):\n",
    "    if deriv == True:\n",
    "        return np.exp(-x) / (1 + np.exp(-x)) ** 2\n",
    "    return 1 / (1 + np.exp(-x))"
   ]
  },
  {
   "cell_type": "code",
   "execution_count": 80,
   "metadata": {},
   "outputs": [],
   "source": [
    "\n",
    "# seed random numbers to make calculation\n",
    "# deterministic (just a good practice)\n",
    "np.random.seed(1)\n",
    "#亂數設定產生種子得到的權重初始化集仍是隨機分佈的，\n",
    "#但每次開始訓練時，得到的權重初始集分佈都是完全一致的。\n",
    " \n",
    "# initialize weights randomly with mean 0\n",
    "# define syn1\n",
    "x = np.array([  [0,0,1],\n",
    "                     [0,1,1],\n",
    "                     [1,0,1],\n",
    "                     [1,1,1]  ])\n",
    "\n",
    "y = np.array( [[0,0,1,1]]).T\n",
    "\n",
    "syn0 = 2*np.random.random((3,2)) - 1\n",
    "syn1 = 2 * np.random.random((2,1)) - 1\n",
    "iter = 0\n",
    "#該神經網路權重矩陣的初始化操作。\n",
    "#用 “syn0” 來代指 (即“輸入層-第一層隱層”間權重矩陣）\n",
    "#用 “syn1” 來代指 (即“輸入層-第二層隱層”間權重矩陣）\n",
    "\n",
    "syn0_history = [syn0]\n",
    "syn1_history = [syn1]"
   ]
  },
  {
   "cell_type": "markdown",
   "metadata": {},
   "source": [
    "神經網路訓練\n",
    "for 迴圈反覆運算式地多次執行訓練代碼，使得我們的網路能更好地擬合訓練集"
   ]
  },
  {
   "cell_type": "code",
   "execution_count": 81,
   "metadata": {
    "scrolled": false
   },
   "outputs": [
    {
     "name": "stdout",
     "output_type": "stream",
     "text": [
      "Output After Training:\n",
      "[[0.8873425  0.13059733]\n",
      " [0.89373222 0.10700482]\n",
      " [0.06433996 0.93727913]\n",
      " [0.06840157 0.92260416]]\n",
      "\n",
      "\n",
      "\n",
      "[[0.00588212]\n",
      " [0.00489047]\n",
      " [0.99478609]\n",
      " [0.99414829]]\n"
     ]
    }
   ],
   "source": [
    "for iter in range(10000):\n",
    "    # forward propagation\n",
    "    l0 = X\n",
    "    z1=np.dot(l0,syn0)\n",
    "    l1 = nonlin(z1)\n",
    "    z2=np.dot(l1,syn1)\n",
    "    l2 = nonlin(z2)\n",
    "    \n",
    "    '''\n",
    "    新增\n",
    "    l2_error 該值說明了神經網路預測時“丟失”的數目。\n",
    "    l2_delta 該值為經確信度加權後的神經網路的誤差，除了確信誤差很小時，它近似等於預測誤差。\n",
    "    '''\n",
    "    \n",
    "    #l2_loss = dC/dy (C->cost function)\n",
    "    l2_loss = y - l2\n",
    "    #l2_delta = dC/dz2 =  dC/dy * dy/dz2 = dC/dy * da2/dz2 = dC/dy * dsigmoid(z2)\n",
    "    l2_delta = l2_loss * nonlin(z2,True)\n",
    "\n",
    "    #l1_delta = dC/dz1 = dC/da1 * da1/dz1 = dC/da1 * dsigmoid(z1)\n",
    "    #dC/da = l1_loss = dC/dz2 * dz2/da1 = l2_delta * syn1(weighting 1)\n",
    "    \n",
    "    l1_loss = np.dot(l2_delta,syn1.T)\n",
    "\n",
    "    l1_delta = l1_loss *nonlin(z1,True)\n",
    "    \n",
    "    \n",
    "    syn1 += np.dot(l1.T, l2_delta)\n",
    "    syn0 += np.dot(l0.T, l1_delta)\n",
    "    \n",
    "print(\"Output After Training:\")\n",
    "print(l1)\n",
    "print(\"\\n\\n\")\n",
    "print(l2)"
   ]
  },
  {
   "cell_type": "code",
   "execution_count": 82,
   "metadata": {
    "scrolled": false
   },
   "outputs": [
    {
     "data": {
      "image/png": "[encoded data removed]",
      "text/plain": [
       "<Figure size 432x288 with 1 Axes>"
      ]
     },
     "metadata": {
      "needs_background": "light"
     },
     "output_type": "display_data"
    }
   ],
   "source": [
    "\n",
    "import matplotlib.pyplot as plt\n",
    "%matplotlib inline\n",
    "\n",
    "plt.plot(syn0_history[0], ms=3, lw=1.5, color = 'b')\n",
    "plt.xlabel('l1', fontsize = 16)\n",
    "plt.show()"
   ]
  },
  {
   "cell_type": "code",
   "execution_count": null,
   "metadata": {},
   "outputs": [],
   "source": []
  }
 ],
 "metadata": {
  "kernelspec": {
   "display_name": "Python 3",
   "language": "python",
   "name": "python3"
  },
  "language_info": {
   "codemirror_mode": {
    "name": "ipython",
    "version": 3
   },
   "file_extension": ".py",
   "mimetype": "text/x-python",
   "name": "python",
   "nbconvert_exporter": "python",
   "pygments_lexer": "ipython3",
   "version": "3.7.3"
  }
 },
 "nbformat": 4,
 "nbformat_minor": 2
}
