{
 "cells": [
  {
   "cell_type": "markdown",
   "metadata": {},
   "source": [
    "## 範例重點\n",
    "### 學習在模型開始前檢查各個環節\n",
    "1. 是否有 GPU 資源\n",
    "2. 將前處理轉為函式，統一處理訓練、驗證與測試集\n",
    "3. 將超參數變數化，易於重複使用函式、模型等"
   ]
  },
  {
   "cell_type": "code",
   "execution_count": 11,
   "metadata": {},
   "outputs": [
    {
     "name": "stdout",
     "output_type": "stream",
     "text": [
      "/bin/sh: nvidia-smi: command not found\r\n"
     ]
    }
   ],
   "source": [
    "## 確認硬體資源 (如果你是在 Linux, 若是在 Windows, 請參考 https://blog.csdn.net/idwtwt/article/details/78017565)\n",
    "!nvidia-smi"
   ]
  },
  {
   "cell_type": "code",
   "execution_count": 12,
   "metadata": {},
   "outputs": [],
   "source": [
    "import os\n",
    "import keras\n",
    "\n",
    "# 本範例不需使用 GPU, 將 GPU 設定為 \"無\"\n",
    "#os.environ[\"CUDA_VISIBLE_DEVICES\"] = \"\""
   ]
  },
  {
   "cell_type": "code",
   "execution_count": 13,
   "metadata": {},
   "outputs": [],
   "source": [
    "# 從 Keras 的內建功能中，取得 train 與 test 資料集\n",
    "train, test = keras.datasets.cifar10.load_data()"
   ]
  },
  {
   "cell_type": "code",
   "execution_count": 14,
   "metadata": {},
   "outputs": [],
   "source": [
    "## 資料前處理\n",
    "def preproc_x(x, flatten=True):\n",
    "    x = x / 255.\n",
    "    if flatten:\n",
    "        x = x.reshape((len(x), -1))\n",
    "    return x\n",
    "\n",
    "def preproc_y(y, num_classes=10):\n",
    "    if y.shape[-1] == 1:\n",
    "        y = keras.utils.to_categorical(y, num_classes)\n",
    "    return y    "
   ]
  },
  {
   "cell_type": "code",
   "execution_count": 15,
   "metadata": {},
   "outputs": [],
   "source": [
    "x_train, y_train = train\n",
    "x_test, y_test = test\n",
    "\n",
    "# 資料前處理 - X 標準化\n",
    "x_train = preproc_x(x_train)\n",
    "x_test = preproc_x(x_test)\n",
    "\n",
    "# 資料前處理 -Y 轉成 onehot\n",
    "y_train = preproc_y(y_train)\n",
    "y_test = preproc_y(y_test)"
   ]
  },
  {
   "cell_type": "code",
   "execution_count": 16,
   "metadata": {},
   "outputs": [],
   "source": [
    "def build_mlp(input_shape, output_units=10, num_neurons=[512, 256, 128]):\n",
    "    input_layer = keras.layers.Input(input_shape)\n",
    "    \n",
    "    for i, n_units in enumerate(num_neurons):\n",
    "        if i == 0:\n",
    "            x = keras.layers.Dense(units=n_units, activation=\"relu\", name=\"hidden_layer\"+str(i+1))(input_layer)\n",
    "        else:\n",
    "            x = keras.layers.Dense(units=n_units, activation=\"relu\", name=\"hidden_layer\"+str(i+1))(x)\n",
    "    \n",
    "    out = keras.layers.Dense(units=output_units, activation=\"softmax\", name=\"output\")(x)\n",
    "    \n",
    "    model = keras.models.Model(inputs=[input_layer], outputs=[out])\n",
    "    return model"
   ]
  },
  {
   "cell_type": "code",
   "execution_count": 17,
   "metadata": {},
   "outputs": [
    {
     "name": "stdout",
     "output_type": "stream",
     "text": [
      "_________________________________________________________________\n",
      "Layer (type)                 Output Shape              Param #   \n",
      "=================================================================\n",
      "input_2 (InputLayer)         (None, 3072)              0         \n",
      "_________________________________________________________________\n",
      "hidden_layer1 (Dense)        (None, 512)               1573376   \n",
      "_________________________________________________________________\n",
      "hidden_layer2 (Dense)        (None, 256)               131328    \n",
      "_________________________________________________________________\n",
      "hidden_layer3 (Dense)        (None, 128)               32896     \n",
      "_________________________________________________________________\n",
      "output (Dense)               (None, 10)                1290      \n",
      "=================================================================\n",
      "Total params: 1,738,890\n",
      "Trainable params: 1,738,890\n",
      "Non-trainable params: 0\n",
      "_________________________________________________________________\n"
     ]
    }
   ],
   "source": [
    "model = build_mlp(input_shape=x_train.shape[1:])\n",
    "model.summary()"
   ]
  },
  {
   "cell_type": "code",
   "execution_count": 18,
   "metadata": {},
   "outputs": [],
   "source": [
    "## 超參數設定\n",
    "LEARNING_RATE = 0.001\n",
    "EPOCHS = 100\n",
    "BATCH_SIZE = 256"
   ]
  },
  {
   "cell_type": "code",
   "execution_count": 19,
   "metadata": {},
   "outputs": [],
   "source": [
    "optimizer = keras.optimizers.Adam(lr=LEARNING_RATE)\n",
    "model.compile(loss=\"categorical_crossentropy\", metrics=[\"accuracy\"], optimizer=optimizer)"
   ]
  },
  {
   "cell_type": "code",
   "execution_count": 20,
   "metadata": {
    "scrolled": true
   },
   "outputs": [
    {
     "name": "stdout",
     "output_type": "stream",
     "text": [
      "Train on 50000 samples, validate on 10000 samples\n",
      "Epoch 1/100\n",
      "50000/50000 [==============================] - 5s 91us/step - loss: 1.9513 - acc: 0.2983 - val_loss: 1.7823 - val_acc: 0.3574\n",
      "Epoch 2/100\n",
      "50000/50000 [==============================] - 4s 88us/step - loss: 1.7237 - acc: 0.3855 - val_loss: 1.6468 - val_acc: 0.4083\n",
      "Epoch 3/100\n",
      "50000/50000 [==============================] - 5s 95us/step - loss: 1.6376 - acc: 0.4140 - val_loss: 1.5740 - val_acc: 0.4428\n",
      "Epoch 4/100\n",
      "50000/50000 [==============================] - 5s 102us/step - loss: 1.5704 - acc: 0.4384 - val_loss: 1.5484 - val_acc: 0.4473\n",
      "Epoch 5/100\n",
      "50000/50000 [==============================] - 5s 97us/step - loss: 1.5108 - acc: 0.4578 - val_loss: 1.5091 - val_acc: 0.4672\n",
      "Epoch 6/100\n",
      "50000/50000 [==============================] - 5s 95us/step - loss: 1.4778 - acc: 0.4723 - val_loss: 1.4800 - val_acc: 0.4726\n",
      "Epoch 7/100\n",
      "50000/50000 [==============================] - 5s 94us/step - loss: 1.4398 - acc: 0.4857 - val_loss: 1.4797 - val_acc: 0.4684\n",
      "Epoch 8/100\n",
      "50000/50000 [==============================] - 5s 93us/step - loss: 1.4031 - acc: 0.4979 - val_loss: 1.5117 - val_acc: 0.4654\n",
      "Epoch 9/100\n",
      "50000/50000 [==============================] - 5s 94us/step - loss: 1.3913 - acc: 0.5032 - val_loss: 1.4458 - val_acc: 0.4918\n",
      "Epoch 10/100\n",
      "50000/50000 [==============================] - 5s 97us/step - loss: 1.3645 - acc: 0.5121 - val_loss: 1.4458 - val_acc: 0.4867\n",
      "Epoch 11/100\n",
      "50000/50000 [==============================] - 5s 97us/step - loss: 1.3379 - acc: 0.5249 - val_loss: 1.4124 - val_acc: 0.5026\n",
      "Epoch 12/100\n",
      "50000/50000 [==============================] - 5s 97us/step - loss: 1.3041 - acc: 0.5364 - val_loss: 1.4236 - val_acc: 0.4955\n",
      "Epoch 13/100\n",
      "50000/50000 [==============================] - 5s 97us/step - loss: 1.2825 - acc: 0.5427 - val_loss: 1.4180 - val_acc: 0.4982\n",
      "Epoch 14/100\n",
      "50000/50000 [==============================] - 5s 94us/step - loss: 1.2647 - acc: 0.5474 - val_loss: 1.3964 - val_acc: 0.5086\n",
      "Epoch 15/100\n",
      "50000/50000 [==============================] - 5s 93us/step - loss: 1.2466 - acc: 0.5535 - val_loss: 1.3969 - val_acc: 0.5076\n",
      "Epoch 16/100\n",
      "50000/50000 [==============================] - 5s 95us/step - loss: 1.2274 - acc: 0.5620 - val_loss: 1.3717 - val_acc: 0.5216\n",
      "Epoch 17/100\n",
      "50000/50000 [==============================] - 5s 95us/step - loss: 1.1965 - acc: 0.5714 - val_loss: 1.3558 - val_acc: 0.5217\n",
      "Epoch 18/100\n",
      "50000/50000 [==============================] - 5s 93us/step - loss: 1.1819 - acc: 0.5779 - val_loss: 1.4008 - val_acc: 0.5037\n",
      "Epoch 19/100\n",
      "50000/50000 [==============================] - 5s 92us/step - loss: 1.1667 - acc: 0.5826 - val_loss: 1.3639 - val_acc: 0.5222\n",
      "Epoch 20/100\n",
      "50000/50000 [==============================] - 5s 92us/step - loss: 1.1320 - acc: 0.5952 - val_loss: 1.4075 - val_acc: 0.5121\n",
      "Epoch 21/100\n",
      "50000/50000 [==============================] - 5s 92us/step - loss: 1.1160 - acc: 0.6008 - val_loss: 1.3657 - val_acc: 0.5272\n",
      "Epoch 22/100\n",
      "50000/50000 [==============================] - 5s 92us/step - loss: 1.0958 - acc: 0.6079 - val_loss: 1.3696 - val_acc: 0.5258\n",
      "Epoch 23/100\n",
      "50000/50000 [==============================] - 5s 92us/step - loss: 1.0895 - acc: 0.6100 - val_loss: 1.3800 - val_acc: 0.5206\n",
      "Epoch 24/100\n",
      "50000/50000 [==============================] - 5s 91us/step - loss: 1.0582 - acc: 0.6221 - val_loss: 1.3964 - val_acc: 0.5194\n",
      "Epoch 25/100\n",
      "50000/50000 [==============================] - 5s 92us/step - loss: 1.0415 - acc: 0.6276 - val_loss: 1.4022 - val_acc: 0.5225\n",
      "Epoch 26/100\n",
      "50000/50000 [==============================] - 5s 92us/step - loss: 1.0262 - acc: 0.6333 - val_loss: 1.3874 - val_acc: 0.5198\n",
      "Epoch 27/100\n",
      "50000/50000 [==============================] - 5s 92us/step - loss: 1.0005 - acc: 0.6432 - val_loss: 1.3752 - val_acc: 0.5315\n",
      "Epoch 28/100\n",
      "50000/50000 [==============================] - 5s 92us/step - loss: 0.9957 - acc: 0.6457 - val_loss: 1.3958 - val_acc: 0.5318\n",
      "Epoch 29/100\n",
      "50000/50000 [==============================] - 5s 92us/step - loss: 0.9691 - acc: 0.6537 - val_loss: 1.4596 - val_acc: 0.5122\n",
      "Epoch 30/100\n",
      "50000/50000 [==============================] - 5s 93us/step - loss: 0.9556 - acc: 0.6566 - val_loss: 1.4877 - val_acc: 0.5133\n",
      "Epoch 31/100\n",
      "50000/50000 [==============================] - 5s 92us/step - loss: 0.9465 - acc: 0.6621 - val_loss: 1.4752 - val_acc: 0.5113\n",
      "Epoch 32/100\n",
      "50000/50000 [==============================] - 5s 91us/step - loss: 0.9261 - acc: 0.6683 - val_loss: 1.4381 - val_acc: 0.5206\n",
      "Epoch 33/100\n",
      "50000/50000 [==============================] - 5s 92us/step - loss: 0.9004 - acc: 0.6769 - val_loss: 1.4765 - val_acc: 0.5114\n",
      "Epoch 34/100\n",
      "50000/50000 [==============================] - 5s 92us/step - loss: 0.8933 - acc: 0.6831 - val_loss: 1.4415 - val_acc: 0.5199\n",
      "Epoch 35/100\n",
      "50000/50000 [==============================] - 5s 92us/step - loss: 0.8649 - acc: 0.6921 - val_loss: 1.4909 - val_acc: 0.5233\n",
      "Epoch 36/100\n",
      "50000/50000 [==============================] - 5s 93us/step - loss: 0.8494 - acc: 0.6961 - val_loss: 1.4792 - val_acc: 0.5245\n",
      "Epoch 37/100\n",
      "50000/50000 [==============================] - 5s 92us/step - loss: 0.8461 - acc: 0.6996 - val_loss: 1.5141 - val_acc: 0.5168\n",
      "Epoch 38/100\n",
      "50000/50000 [==============================] - 5s 93us/step - loss: 0.8231 - acc: 0.7077 - val_loss: 1.5199 - val_acc: 0.5177\n",
      "Epoch 39/100\n",
      "50000/50000 [==============================] - 5s 93us/step - loss: 0.8156 - acc: 0.7083 - val_loss: 1.5650 - val_acc: 0.5135\n",
      "Epoch 40/100\n",
      "50000/50000 [==============================] - 5s 92us/step - loss: 0.8004 - acc: 0.7155 - val_loss: 1.5356 - val_acc: 0.5190\n",
      "Epoch 41/100\n",
      "50000/50000 [==============================] - 5s 92us/step - loss: 0.7801 - acc: 0.7226 - val_loss: 1.5428 - val_acc: 0.5189\n",
      "Epoch 42/100\n",
      "50000/50000 [==============================] - 5s 94us/step - loss: 0.7574 - acc: 0.7291 - val_loss: 1.6121 - val_acc: 0.5196\n",
      "Epoch 43/100\n",
      "50000/50000 [==============================] - 5s 94us/step - loss: 0.7583 - acc: 0.7290 - val_loss: 1.5913 - val_acc: 0.5182\n",
      "Epoch 44/100\n",
      "50000/50000 [==============================] - 5s 93us/step - loss: 0.7303 - acc: 0.7409 - val_loss: 1.6272 - val_acc: 0.5167\n",
      "Epoch 45/100\n",
      "50000/50000 [==============================] - 5s 93us/step - loss: 0.7183 - acc: 0.7434 - val_loss: 1.6254 - val_acc: 0.5118\n",
      "Epoch 46/100\n",
      "50000/50000 [==============================] - 5s 93us/step - loss: 0.7077 - acc: 0.7474 - val_loss: 1.6930 - val_acc: 0.5115\n",
      "Epoch 47/100\n",
      "50000/50000 [==============================] - 5s 93us/step - loss: 0.7007 - acc: 0.7499 - val_loss: 1.6688 - val_acc: 0.5234\n",
      "Epoch 48/100\n",
      "50000/50000 [==============================] - 5s 93us/step - loss: 0.6737 - acc: 0.7590 - val_loss: 1.7659 - val_acc: 0.5121\n",
      "Epoch 49/100\n",
      "50000/50000 [==============================] - 5s 94us/step - loss: 0.6776 - acc: 0.7580 - val_loss: 1.7379 - val_acc: 0.5110\n",
      "Epoch 50/100\n",
      "50000/50000 [==============================] - 5s 94us/step - loss: 0.6630 - acc: 0.7627 - val_loss: 1.7496 - val_acc: 0.5157\n",
      "Epoch 51/100\n",
      "50000/50000 [==============================] - 5s 96us/step - loss: 0.6408 - acc: 0.7716 - val_loss: 1.7817 - val_acc: 0.5123\n",
      "Epoch 52/100\n",
      "50000/50000 [==============================] - 5s 97us/step - loss: 0.6280 - acc: 0.7754 - val_loss: 1.8056 - val_acc: 0.5133\n",
      "Epoch 53/100\n",
      "50000/50000 [==============================] - 5s 106us/step - loss: 0.6196 - acc: 0.7781 - val_loss: 1.8184 - val_acc: 0.5103\n",
      "Epoch 54/100\n",
      "50000/50000 [==============================] - 5s 96us/step - loss: 0.6142 - acc: 0.7815 - val_loss: 1.8170 - val_acc: 0.5189\n",
      "Epoch 55/100\n",
      "50000/50000 [==============================] - 5s 98us/step - loss: 0.6062 - acc: 0.7825 - val_loss: 1.8960 - val_acc: 0.5079\n",
      "Epoch 56/100\n",
      "50000/50000 [==============================] - 5s 94us/step - loss: 0.5897 - acc: 0.7891 - val_loss: 1.8961 - val_acc: 0.5124\n",
      "Epoch 57/100\n",
      "50000/50000 [==============================] - 5s 94us/step - loss: 0.5702 - acc: 0.7962 - val_loss: 1.9595 - val_acc: 0.5118\n",
      "Epoch 58/100\n",
      "50000/50000 [==============================] - 5s 93us/step - loss: 0.5635 - acc: 0.7960 - val_loss: 1.9174 - val_acc: 0.5150\n",
      "Epoch 59/100\n"
     ]
    },
    {
     "name": "stdout",
     "output_type": "stream",
     "text": [
      "50000/50000 [==============================] - 5s 94us/step - loss: 0.5746 - acc: 0.7934 - val_loss: 1.9618 - val_acc: 0.5068\n",
      "Epoch 60/100\n",
      "50000/50000 [==============================] - 5s 92us/step - loss: 0.5589 - acc: 0.7996 - val_loss: 1.9845 - val_acc: 0.5143\n",
      "Epoch 61/100\n",
      "50000/50000 [==============================] - 5s 93us/step - loss: 0.5295 - acc: 0.8111 - val_loss: 2.0408 - val_acc: 0.5142\n",
      "Epoch 62/100\n",
      "50000/50000 [==============================] - 5s 97us/step - loss: 0.5297 - acc: 0.8116 - val_loss: 2.0607 - val_acc: 0.5029\n",
      "Epoch 63/100\n",
      "50000/50000 [==============================] - 5s 99us/step - loss: 0.5168 - acc: 0.8148 - val_loss: 2.0768 - val_acc: 0.5121\n",
      "Epoch 64/100\n",
      "50000/50000 [==============================] - 5s 99us/step - loss: 0.5167 - acc: 0.8155 - val_loss: 2.0850 - val_acc: 0.5157\n",
      "Epoch 65/100\n",
      "50000/50000 [==============================] - 5s 97us/step - loss: 0.4928 - acc: 0.8224 - val_loss: 2.1874 - val_acc: 0.4998\n",
      "Epoch 66/100\n",
      "50000/50000 [==============================] - 5s 97us/step - loss: 0.4867 - acc: 0.8276 - val_loss: 2.1135 - val_acc: 0.5069\n",
      "Epoch 67/100\n",
      "50000/50000 [==============================] - 5s 98us/step - loss: 0.4799 - acc: 0.8303 - val_loss: 2.1562 - val_acc: 0.5066\n",
      "Epoch 68/100\n",
      "50000/50000 [==============================] - 5s 95us/step - loss: 0.4735 - acc: 0.8322 - val_loss: 2.1355 - val_acc: 0.5173\n",
      "Epoch 69/100\n",
      "50000/50000 [==============================] - 5s 96us/step - loss: 0.4594 - acc: 0.8347 - val_loss: 2.1681 - val_acc: 0.5084\n",
      "Epoch 70/100\n",
      "50000/50000 [==============================] - 5s 100us/step - loss: 0.4546 - acc: 0.8369 - val_loss: 2.2842 - val_acc: 0.5064\n",
      "Epoch 71/100\n",
      "50000/50000 [==============================] - 5s 97us/step - loss: 0.4487 - acc: 0.8367 - val_loss: 2.2654 - val_acc: 0.5088\n",
      "Epoch 72/100\n",
      "50000/50000 [==============================] - 5s 95us/step - loss: 0.4398 - acc: 0.8439 - val_loss: 2.3214 - val_acc: 0.5022\n",
      "Epoch 73/100\n",
      "50000/50000 [==============================] - 5s 95us/step - loss: 0.4486 - acc: 0.8395 - val_loss: 2.3192 - val_acc: 0.5029\n",
      "Epoch 74/100\n",
      "50000/50000 [==============================] - 5s 96us/step - loss: 0.4256 - acc: 0.8491 - val_loss: 2.3095 - val_acc: 0.5146\n",
      "Epoch 75/100\n",
      "50000/50000 [==============================] - 5s 96us/step - loss: 0.4241 - acc: 0.8481 - val_loss: 2.4175 - val_acc: 0.5081\n",
      "Epoch 76/100\n",
      "50000/50000 [==============================] - 5s 98us/step - loss: 0.4190 - acc: 0.8507 - val_loss: 2.3998 - val_acc: 0.5118\n",
      "Epoch 77/100\n",
      "50000/50000 [==============================] - 5s 98us/step - loss: 0.4012 - acc: 0.8566 - val_loss: 2.5448 - val_acc: 0.4994\n",
      "Epoch 78/100\n",
      "50000/50000 [==============================] - 5s 98us/step - loss: 0.3939 - acc: 0.8597 - val_loss: 2.4175 - val_acc: 0.5064\n",
      "Epoch 79/100\n",
      "50000/50000 [==============================] - 5s 103us/step - loss: 0.3979 - acc: 0.8573 - val_loss: 2.4902 - val_acc: 0.4977\n",
      "Epoch 80/100\n",
      "50000/50000 [==============================] - 5s 105us/step - loss: 0.4120 - acc: 0.8515 - val_loss: 2.4332 - val_acc: 0.5094\n",
      "Epoch 81/100\n",
      "50000/50000 [==============================] - 5s 106us/step - loss: 0.3903 - acc: 0.8597 - val_loss: 2.4598 - val_acc: 0.5088\n",
      "Epoch 82/100\n",
      "50000/50000 [==============================] - 5s 99us/step - loss: 0.3688 - acc: 0.8689 - val_loss: 2.5738 - val_acc: 0.5002\n",
      "Epoch 83/100\n",
      "50000/50000 [==============================] - 6s 115us/step - loss: 0.3759 - acc: 0.8643 - val_loss: 2.5800 - val_acc: 0.4958\n",
      "Epoch 84/100\n",
      "50000/50000 [==============================] - 8s 168us/step - loss: 0.3760 - acc: 0.8660 - val_loss: 2.5879 - val_acc: 0.5030\n",
      "Epoch 85/100\n",
      "50000/50000 [==============================] - 8s 168us/step - loss: 0.3599 - acc: 0.8729 - val_loss: 2.6870 - val_acc: 0.5012\n",
      "Epoch 86/100\n",
      "50000/50000 [==============================] - 8s 167us/step - loss: 0.3623 - acc: 0.8693 - val_loss: 2.6166 - val_acc: 0.5084\n",
      "Epoch 87/100\n",
      "50000/50000 [==============================] - 8s 165us/step - loss: 0.3365 - acc: 0.8792 - val_loss: 2.7102 - val_acc: 0.5080\n",
      "Epoch 88/100\n",
      "50000/50000 [==============================] - 8s 165us/step - loss: 0.3508 - acc: 0.8750 - val_loss: 2.6774 - val_acc: 0.5018\n",
      "Epoch 89/100\n",
      "50000/50000 [==============================] - 8s 166us/step - loss: 0.3363 - acc: 0.8799 - val_loss: 2.7702 - val_acc: 0.4968\n",
      "Epoch 90/100\n",
      "50000/50000 [==============================] - 8s 166us/step - loss: 0.3248 - acc: 0.8839 - val_loss: 2.7349 - val_acc: 0.5006\n",
      "Epoch 91/100\n",
      "50000/50000 [==============================] - 8s 166us/step - loss: 0.3380 - acc: 0.8793 - val_loss: 2.7365 - val_acc: 0.5048\n",
      "Epoch 92/100\n",
      "50000/50000 [==============================] - 8s 167us/step - loss: 0.3267 - acc: 0.8823 - val_loss: 2.8755 - val_acc: 0.4979\n",
      "Epoch 93/100\n",
      "50000/50000 [==============================] - 8s 164us/step - loss: 0.3319 - acc: 0.8796 - val_loss: 2.8685 - val_acc: 0.5027\n",
      "Epoch 94/100\n",
      "50000/50000 [==============================] - 8s 166us/step - loss: 0.3400 - acc: 0.8778 - val_loss: 2.8882 - val_acc: 0.4972\n",
      "Epoch 95/100\n",
      "50000/50000 [==============================] - 8s 166us/step - loss: 0.3362 - acc: 0.8783 - val_loss: 2.8969 - val_acc: 0.5018\n",
      "Epoch 96/100\n",
      "50000/50000 [==============================] - 8s 165us/step - loss: 0.3160 - acc: 0.8861 - val_loss: 2.9229 - val_acc: 0.5042\n",
      "Epoch 97/100\n",
      "50000/50000 [==============================] - 8s 168us/step - loss: 0.2892 - acc: 0.8979 - val_loss: 2.9698 - val_acc: 0.5013\n",
      "Epoch 98/100\n",
      "50000/50000 [==============================] - 8s 169us/step - loss: 0.3072 - acc: 0.8883 - val_loss: 3.0140 - val_acc: 0.5061\n",
      "Epoch 99/100\n",
      "50000/50000 [==============================] - 8s 169us/step - loss: 0.3354 - acc: 0.8801 - val_loss: 3.0125 - val_acc: 0.5032\n",
      "Epoch 100/100\n",
      "50000/50000 [==============================] - 8s 167us/step - loss: 0.2903 - acc: 0.8957 - val_loss: 3.0712 - val_acc: 0.4991\n"
     ]
    },
    {
     "data": {
      "text/plain": [
       "<keras.callbacks.History at 0xb3329dfd0>"
      ]
     },
     "execution_count": 20,
     "metadata": {},
     "output_type": "execute_result"
    }
   ],
   "source": [
    "model.fit(x_train, y_train, \n",
    "          epochs=EPOCHS, \n",
    "          batch_size=BATCH_SIZE, \n",
    "          validation_data=(x_test, y_test), \n",
    "          shuffle=True)"
   ]
  },
  {
   "cell_type": "code",
   "execution_count": 21,
   "metadata": {},
   "outputs": [
    {
     "data": {
      "image/png": "[encoded data removed]",
      "text/plain": [
       "<Figure size 432x288 with 1 Axes>"
      ]
     },
     "metadata": {
      "needs_background": "light"
     },
     "output_type": "display_data"
    },
    {
     "data": {
      "image/png": "[encoded data removed]",
      "text/plain": [
       "<Figure size 432x288 with 1 Axes>"
      ]
     },
     "metadata": {
      "needs_background": "light"
     },
     "output_type": "display_data"
    }
   ],
   "source": [
    "# 訓練模型並檢視驗證集的結果\n",
    "import matplotlib.pyplot as plt\n",
    "\n",
    "train_loss = model.history.history[\"loss\"]\n",
    "valid_loss = model.history.history[\"val_loss\"]\n",
    "\n",
    "train_acc = model.history.history[\"acc\"]\n",
    "valid_acc = model.history.history[\"val_acc\"]\n",
    "\n",
    "plt.plot(range(len(train_loss)), train_loss, label=\"train loss\")\n",
    "plt.plot(range(len(valid_loss)), valid_loss, label=\"valid loss\")\n",
    "plt.legend()\n",
    "plt.title(\"Loss\")\n",
    "plt.show()\n",
    "\n",
    "plt.plot(range(len(train_acc)), train_acc, label=\"train accuracy\")\n",
    "plt.plot(range(len(valid_acc)), valid_acc, label=\"valid accuracy\")\n",
    "plt.legend()\n",
    "plt.title(\"Accuracy\")\n",
    "plt.show()"
   ]
  },
  {
   "cell_type": "markdown",
   "metadata": {},
   "source": [
    "## Work\n",
    "1. 請嘗試將 preproc_x 替換成以每筆資料的 min/max 進行標準化至 -1 ~ 1 間，再進行訓練\n",
    "2. 請嘗試將 mlp 疊更深 (e.g 5~10 層)，進行訓練後觀察 learning curve 的走勢\n",
    "3. (optional) 請改用 GPU 進行訓練 (如果你有 GPU 的話)，比較使用 CPU 與 GPU 的訓練速度"
   ]
  }
 ],
 "metadata": {
  "kernelspec": {
   "display_name": "Python 3",
   "language": "python",
   "name": "python3"
  },
  "language_info": {
   "codemirror_mode": {
    "name": "ipython",
    "version": 3
   },
   "file_extension": ".py",
   "mimetype": "text/x-python",
   "name": "python",
   "nbconvert_exporter": "python",
   "pygments_lexer": "ipython3",
   "version": "3.7.3"
  }
 },
 "nbformat": 4,
 "nbformat_minor": 2
}
