{
 "cells": [
  {
   "cell_type": "markdown",
   "metadata": {},
   "source": [
    "## Work\n",
    "1. 請嘗試寫一個 callback 用來記錄各類別在訓練過程中，對驗證集的 True Positive 與 True Negative"
   ]
  },
  {
   "cell_type": "code",
   "execution_count": 9,
   "metadata": {},
   "outputs": [],
   "source": [
    "import os\n",
    "import keras\n",
    "\n",
    "# 本範例不需使用 GPU, 將 GPU 設定為 \"無\"\n",
    "os.environ[\"CUDA_VISIBLE_DEVICES\"] = \"\""
   ]
  },
  {
   "cell_type": "code",
   "execution_count": 10,
   "metadata": {},
   "outputs": [],
   "source": [
    "train, test = keras.datasets.cifar10.load_data()"
   ]
  },
  {
   "cell_type": "code",
   "execution_count": 11,
   "metadata": {},
   "outputs": [],
   "source": [
    "## 資料前處理\n",
    "def preproc_x(x, flatten=True):\n",
    "    x = x / 255.\n",
    "    if flatten:\n",
    "        x = x.reshape((len(x), -1))\n",
    "    return x\n",
    "\n",
    "def preproc_y(y, num_classes=10):\n",
    "    if y.shape[-1] == 1:\n",
    "        y = keras.utils.to_categorical(y, num_classes)\n",
    "    return y    "
   ]
  },
  {
   "cell_type": "code",
   "execution_count": 12,
   "metadata": {},
   "outputs": [],
   "source": [
    "x_train, y_train = train\n",
    "x_test, y_test = test\n",
    "\n",
    "# 資料前處理 - X 標準化\n",
    "x_train = preproc_x(x_train)\n",
    "x_test = preproc_x(x_test)\n",
    "\n",
    "# 資料前處理 -Y 轉成 onehot\n",
    "y_train = preproc_y(y_train)\n",
    "y_test = preproc_y(y_test)"
   ]
  },
  {
   "cell_type": "code",
   "execution_count": 13,
   "metadata": {},
   "outputs": [],
   "source": [
    "from keras.layers import BatchNormalization\n",
    "\n",
    "\"\"\"\n",
    "建立神經網路，並加入 BN layer\n",
    "\"\"\"\n",
    "def build_mlp(input_shape, output_units=10, num_neurons=[512, 256, 128]):\n",
    "    input_layer = keras.layers.Input(input_shape)\n",
    "    \n",
    "    for i, n_units in enumerate(num_neurons):\n",
    "        if i == 0:\n",
    "            x = keras.layers.Dense(units=n_units, \n",
    "                                   activation=\"relu\", \n",
    "                                   name=\"hidden_layer\"+str(i+1))(input_layer)\n",
    "            x = BatchNormalization()(x)\n",
    "        else:\n",
    "            x = keras.layers.Dense(units=n_units, \n",
    "                                   activation=\"relu\", \n",
    "                                   name=\"hidden_layer\"+str(i+1))(x)\n",
    "            x = BatchNormalization()(x)\n",
    "    \n",
    "    out = keras.layers.Dense(units=output_units, activation=\"softmax\", name=\"output\")(x)\n",
    "    \n",
    "    model = keras.models.Model(inputs=[input_layer], outputs=[out])\n",
    "    return model"
   ]
  },
  {
   "cell_type": "code",
   "execution_count": 14,
   "metadata": {},
   "outputs": [],
   "source": [
    "## 超參數設定\n",
    "LEARNING_RATE = 1e-3\n",
    "EPOCHS = 50\n",
    "BATCH_SIZE = 1024\n",
    "MOMENTUM = 0.95"
   ]
  },
  {
   "cell_type": "code",
   "execution_count": 19,
   "metadata": {},
   "outputs": [],
   "source": [
    "\"\"\"\n",
    "# 載入 Callbacks，撰寫一個 f1 score 的 callback function\n",
    "\"\"\"\n",
    "\n",
    "from keras.callbacks import Callback\n",
    "from sklearn.metrics import f1_score\n",
    "from sklearn.metrics import confusion_matrix\n",
    "\n",
    "    \n",
    "class f1sc(Callback):\n",
    "    def on_train_begin(self, epoch, logs = {}):\n",
    "        logs = logs or {}\n",
    "        record_items = [\"val_auc\", \"val_f1sc\", \"val_fp\", \"val_fn\", \"val_tp\", \"val_tn\"]\n",
    "        for i in record_items:\n",
    "            if i not in self.params['metrics']:\n",
    "                self.params['metrics'].append(i)\n",
    "\n",
    "    def on_epoch_end(self, epoch, logs = {}, thres=0.5):\n",
    "        logs = logs or {}\n",
    "        y_true = self.validation_data[1].argmax(axis = 1)\n",
    "        y_pred = self.model.predict(self.validation_data[0])\n",
    "        y_pred = (y_pred[:, 1] >= thres) * 1\n",
    "        logs[\"valid_tp\"] = confusion_matrix(y_true,y_pred).ravel()[3]\n",
    "        logs[\"valid_tn\"] = confusion_matrix(y_true,y_pred).ravel()[0]\n",
    "        #logs[\"val_f1sc\"] = f1_score(y_true = y_true, y_pred = y_pred, average=\"weighted\")\n",
    "        \n",
    "log_f1sc = f1sc()"
   ]
  },
  {
   "cell_type": "code",
   "execution_count": 21,
   "metadata": {
    "scrolled": false
   },
   "outputs": [
    {
     "name": "stdout",
     "output_type": "stream",
     "text": [
      "_________________________________________________________________\n",
      "Layer (type)                 Output Shape              Param #   \n",
      "=================================================================\n",
      "input_5 (InputLayer)         (None, 3072)              0         \n",
      "_________________________________________________________________\n",
      "hidden_layer1 (Dense)        (None, 512)               1573376   \n",
      "_________________________________________________________________\n",
      "batch_normalization_13 (Batc (None, 512)               2048      \n",
      "_________________________________________________________________\n",
      "hidden_layer2 (Dense)        (None, 256)               131328    \n",
      "_________________________________________________________________\n",
      "batch_normalization_14 (Batc (None, 256)               1024      \n",
      "_________________________________________________________________\n",
      "hidden_layer3 (Dense)        (None, 128)               32896     \n",
      "_________________________________________________________________\n",
      "batch_normalization_15 (Batc (None, 128)               512       \n",
      "_________________________________________________________________\n",
      "output (Dense)               (None, 10)                1290      \n",
      "=================================================================\n",
      "Total params: 1,742,474\n",
      "Trainable params: 1,740,682\n",
      "Non-trainable params: 1,792\n",
      "_________________________________________________________________\n",
      "Train on 50000 samples, validate on 10000 samples\n",
      "Epoch 1/50\n",
      "50000/50000 [==============================] - 5s 103us/step - loss: 2.1873 - acc: 0.2718 - val_loss: 2.1127 - val_acc: 0.3211\n",
      "Epoch 2/50\n",
      "50000/50000 [==============================] - 4s 80us/step - loss: 1.7372 - acc: 0.3915 - val_loss: 1.8063 - val_acc: 0.3770\n",
      "Epoch 3/50\n",
      "50000/50000 [==============================] - 4s 84us/step - loss: 1.6155 - acc: 0.4347 - val_loss: 1.6929 - val_acc: 0.4042\n",
      "Epoch 4/50\n",
      "50000/50000 [==============================] - 5s 90us/step - loss: 1.5448 - acc: 0.4593 - val_loss: 1.6388 - val_acc: 0.4208\n",
      "Epoch 5/50\n",
      "50000/50000 [==============================] - 5s 92us/step - loss: 1.4918 - acc: 0.4769 - val_loss: 1.6076 - val_acc: 0.4385\n",
      "Epoch 6/50\n",
      "50000/50000 [==============================] - 4s 87us/step - loss: 1.4471 - acc: 0.4924 - val_loss: 1.5721 - val_acc: 0.4437\n",
      "Epoch 7/50\n",
      "50000/50000 [==============================] - 5s 90us/step - loss: 1.4079 - acc: 0.5081 - val_loss: 1.5516 - val_acc: 0.4504\n",
      "Epoch 8/50\n",
      "50000/50000 [==============================] - 5s 90us/step - loss: 1.3710 - acc: 0.5229 - val_loss: 1.5369 - val_acc: 0.4546\n",
      "Epoch 9/50\n",
      "50000/50000 [==============================] - 5s 93us/step - loss: 1.3396 - acc: 0.5342 - val_loss: 1.5098 - val_acc: 0.4667\n",
      "Epoch 10/50\n",
      "50000/50000 [==============================] - 5s 94us/step - loss: 1.3101 - acc: 0.5451 - val_loss: 1.5021 - val_acc: 0.4682\n",
      "Epoch 11/50\n",
      "50000/50000 [==============================] - 5s 93us/step - loss: 1.2845 - acc: 0.5541 - val_loss: 1.4984 - val_acc: 0.4709\n",
      "Epoch 12/50\n",
      "50000/50000 [==============================] - 5s 92us/step - loss: 1.2567 - acc: 0.5642 - val_loss: 1.4908 - val_acc: 0.4746\n",
      "Epoch 13/50\n",
      "50000/50000 [==============================] - 5s 97us/step - loss: 1.2306 - acc: 0.5753 - val_loss: 1.4884 - val_acc: 0.4801\n",
      "Epoch 14/50\n",
      "50000/50000 [==============================] - 4s 89us/step - loss: 1.2058 - acc: 0.5830 - val_loss: 1.4840 - val_acc: 0.4778\n",
      "Epoch 15/50\n",
      "50000/50000 [==============================] - 5s 96us/step - loss: 1.1805 - acc: 0.5925 - val_loss: 1.4957 - val_acc: 0.4771\n",
      "Epoch 16/50\n",
      "50000/50000 [==============================] - 5s 92us/step - loss: 1.1576 - acc: 0.6010 - val_loss: 1.4669 - val_acc: 0.4825\n",
      "Epoch 17/50\n",
      "50000/50000 [==============================] - 5s 92us/step - loss: 1.1338 - acc: 0.6112 - val_loss: 1.4643 - val_acc: 0.4871\n",
      "Epoch 18/50\n",
      "50000/50000 [==============================] - 5s 93us/step - loss: 1.1128 - acc: 0.6189 - val_loss: 1.4663 - val_acc: 0.4812\n",
      "Epoch 19/50\n",
      "50000/50000 [==============================] - 4s 89us/step - loss: 1.0919 - acc: 0.6257 - val_loss: 1.4606 - val_acc: 0.4844\n",
      "Epoch 20/50\n",
      "50000/50000 [==============================] - 5s 94us/step - loss: 1.0690 - acc: 0.6342 - val_loss: 1.4682 - val_acc: 0.4891\n",
      "Epoch 21/50\n",
      "50000/50000 [==============================] - 5s 98us/step - loss: 1.0476 - acc: 0.6439 - val_loss: 1.4663 - val_acc: 0.4908\n",
      "Epoch 22/50\n",
      "50000/50000 [==============================] - 5s 95us/step - loss: 1.0261 - acc: 0.6527 - val_loss: 1.4535 - val_acc: 0.4901\n",
      "Epoch 23/50\n",
      "50000/50000 [==============================] - 5s 95us/step - loss: 1.0045 - acc: 0.6600 - val_loss: 1.4616 - val_acc: 0.4947\n",
      "Epoch 24/50\n",
      "50000/50000 [==============================] - 5s 93us/step - loss: 0.9841 - acc: 0.6680 - val_loss: 1.4548 - val_acc: 0.4938\n",
      "Epoch 25/50\n",
      "50000/50000 [==============================] - 4s 90us/step - loss: 0.9634 - acc: 0.6761 - val_loss: 1.4957 - val_acc: 0.4886\n",
      "Epoch 26/50\n",
      "50000/50000 [==============================] - 5s 92us/step - loss: 0.9435 - acc: 0.6836 - val_loss: 1.4751 - val_acc: 0.4893\n",
      "Epoch 27/50\n",
      "50000/50000 [==============================] - 4s 87us/step - loss: 0.9207 - acc: 0.6924 - val_loss: 1.4640 - val_acc: 0.4939\n",
      "Epoch 28/50\n",
      "50000/50000 [==============================] - 5s 92us/step - loss: 0.9034 - acc: 0.6991 - val_loss: 1.4718 - val_acc: 0.4952\n",
      "Epoch 29/50\n",
      "50000/50000 [==============================] - 5s 96us/step - loss: 0.8815 - acc: 0.7074 - val_loss: 1.4933 - val_acc: 0.4951\n",
      "Epoch 30/50\n",
      "50000/50000 [==============================] - 4s 87us/step - loss: 0.8638 - acc: 0.7131 - val_loss: 1.4832 - val_acc: 0.4916\n",
      "Epoch 31/50\n",
      "50000/50000 [==============================] - 5s 92us/step - loss: 0.8420 - acc: 0.7215 - val_loss: 1.4756 - val_acc: 0.4991\n",
      "Epoch 32/50\n",
      "50000/50000 [==============================] - 4s 88us/step - loss: 0.8225 - acc: 0.7315 - val_loss: 1.4888 - val_acc: 0.4951\n",
      "Epoch 33/50\n",
      "50000/50000 [==============================] - 5s 95us/step - loss: 0.8046 - acc: 0.7388 - val_loss: 1.4922 - val_acc: 0.4880\n",
      "Epoch 34/50\n",
      "50000/50000 [==============================] - 5s 95us/step - loss: 0.7842 - acc: 0.7467 - val_loss: 1.4947 - val_acc: 0.4951\n",
      "Epoch 35/50\n",
      "50000/50000 [==============================] - 5s 97us/step - loss: 0.7652 - acc: 0.7530 - val_loss: 1.5154 - val_acc: 0.4937\n",
      "Epoch 36/50\n",
      "50000/50000 [==============================] - 5s 93us/step - loss: 0.7471 - acc: 0.7610 - val_loss: 1.5137 - val_acc: 0.4918\n",
      "Epoch 37/50\n",
      "50000/50000 [==============================] - 5s 93us/step - loss: 0.7279 - acc: 0.7677 - val_loss: 1.5272 - val_acc: 0.4930\n",
      "Epoch 38/50\n",
      "50000/50000 [==============================] - 4s 89us/step - loss: 0.7086 - acc: 0.7765 - val_loss: 1.5331 - val_acc: 0.4907\n",
      "Epoch 39/50\n",
      "50000/50000 [==============================] - 5s 100us/step - loss: 0.6899 - acc: 0.7835 - val_loss: 1.5399 - val_acc: 0.4926\n",
      "Epoch 40/50\n",
      "50000/50000 [==============================] - 5s 91us/step - loss: 0.6728 - acc: 0.7907 - val_loss: 1.5354 - val_acc: 0.4949\n",
      "Epoch 41/50\n",
      "50000/50000 [==============================] - 5s 91us/step - loss: 0.6518 - acc: 0.7997 - val_loss: 1.5517 - val_acc: 0.4937\n",
      "Epoch 42/50\n",
      "50000/50000 [==============================] - 5s 96us/step - loss: 0.6357 - acc: 0.8069 - val_loss: 1.5498 - val_acc: 0.4889\n",
      "Epoch 43/50\n",
      "50000/50000 [==============================] - 5s 93us/step - loss: 0.6194 - acc: 0.8127 - val_loss: 1.5746 - val_acc: 0.4916\n",
      "Epoch 44/50\n",
      "50000/50000 [==============================] - 5s 96us/step - loss: 0.6017 - acc: 0.8197 - val_loss: 1.5935 - val_acc: 0.4851\n",
      "Epoch 45/50\n",
      "50000/50000 [==============================] - 4s 88us/step - loss: 0.5822 - acc: 0.8286 - val_loss: 1.5985 - val_acc: 0.4906\n",
      "Epoch 46/50\n",
      "50000/50000 [==============================] - 5s 96us/step - loss: 0.5662 - acc: 0.8348 - val_loss: 1.5887 - val_acc: 0.4927\n",
      "Epoch 47/50\n",
      "50000/50000 [==============================] - 5s 94us/step - loss: 0.5485 - acc: 0.8419 - val_loss: 1.6233 - val_acc: 0.4899\n",
      "Epoch 48/50\n",
      "50000/50000 [==============================] - 5s 93us/step - loss: 0.5331 - acc: 0.8474 - val_loss: 1.6398 - val_acc: 0.4871\n",
      "Epoch 49/50\n",
      "50000/50000 [==============================] - 5s 97us/step - loss: 0.5148 - acc: 0.8545 - val_loss: 1.6334 - val_acc: 0.4935\n"
     ]
    },
    {
     "name": "stdout",
     "output_type": "stream",
     "text": [
      "Epoch 50/50\n",
      "50000/50000 [==============================] - 5s 99us/step - loss: 0.4973 - acc: 0.8596 - val_loss: 1.6566 - val_acc: 0.4857\n"
     ]
    }
   ],
   "source": [
    "model = build_mlp(input_shape=x_train.shape[1:])\n",
    "model.summary()\n",
    "optimizer = keras.optimizers.SGD(lr=LEARNING_RATE, nesterov=True, momentum=MOMENTUM)\n",
    "model.compile(loss=\"categorical_crossentropy\", metrics=[\"accuracy\"], optimizer=optimizer)\n",
    "\n",
    "model.fit(x_train, y_train, \n",
    "          epochs=EPOCHS, \n",
    "          batch_size=BATCH_SIZE, \n",
    "          validation_data=(x_test, y_test), \n",
    "          shuffle=True,\n",
    "          callbacks=[log_f1sc]\n",
    "         )\n",
    "\n",
    "# Collect results\n",
    "train_loss = model.history.history[\"loss\"]\n",
    "valid_loss = model.history.history[\"val_loss\"]\n",
    "train_acc = model.history.history[\"acc\"]\n",
    "valid_acc = model.history.history[\"val_acc\"]\n",
    "\n",
    "# 在訓練後，將 f1sc 紀錄調出\n",
    "valid_tn = model.history.history['valid_tn']\n",
    "valid_tp = model.history.history['valid_tp']"
   ]
  },
  {
   "cell_type": "code",
   "execution_count": 22,
   "metadata": {
    "scrolled": false
   },
   "outputs": [
    {
     "data": {
      "image/png": "[encoded data removed]",
      "text/plain": [
       "<Figure size 432x288 with 1 Axes>"
      ]
     },
     "metadata": {
      "needs_background": "light"
     },
     "output_type": "display_data"
    },
    {
     "data": {
      "image/png": "[encoded data removed]",
      "text/plain": [
       "<Figure size 432x288 with 1 Axes>"
      ]
     },
     "metadata": {
      "needs_background": "light"
     },
     "output_type": "display_data"
    },
    {
     "data": {
      "image/png": "[encoded data removed]",
      "text/plain": [
       "<Figure size 432x288 with 1 Axes>"
      ]
     },
     "metadata": {
      "needs_background": "light"
     },
     "output_type": "display_data"
    }
   ],
   "source": [
    "import matplotlib.pyplot as plt\n",
    "%matplotlib inline\n",
    "\n",
    "plt.plot(range(len(train_loss)), train_loss, label=\"train loss\")\n",
    "plt.plot(range(len(valid_loss)), valid_loss, label=\"valid loss\")\n",
    "plt.legend()\n",
    "plt.title(\"Loss\")\n",
    "plt.show()\n",
    "\n",
    "plt.plot(range(len(train_acc)), train_acc, label=\"train accuracy\")\n",
    "plt.plot(range(len(valid_acc)), valid_acc, label=\"valid accuracy\")\n",
    "plt.legend()\n",
    "plt.title(\"Accuracy\")\n",
    "plt.show()\n",
    "\n",
    "plt.plot(range(len(valid_tp)), valid_tp, label=\"valid tp\", color=\"navy\")\n",
    "plt.plot(range(len(valid_tn)), valid_tn, label=\"valid tn\", color=\"red\")\n",
    "plt.legend()\n",
    "plt.title(\"True positives and True Negatives\")\n",
    "plt.show()"
   ]
  },
  {
   "cell_type": "markdown",
   "metadata": {},
   "source": [
    "## Work\n",
    "1. 請嘗試寫一個 callback 用來記錄各類別在訓練過程中，對驗證集的 True Positive 與 True Negative"
   ]
  }
 ],
 "metadata": {
  "kernelspec": {
   "display_name": "Python 3",
   "language": "python",
   "name": "python3"
  },
  "language_info": {
   "codemirror_mode": {
    "name": "ipython",
    "version": 3
   },
   "file_extension": ".py",
   "mimetype": "text/x-python",
   "name": "python",
   "nbconvert_exporter": "python",
   "pygments_lexer": "ipython3",
   "version": "3.7.3"
  }
 },
 "nbformat": 4,
 "nbformat_minor": 2
}
